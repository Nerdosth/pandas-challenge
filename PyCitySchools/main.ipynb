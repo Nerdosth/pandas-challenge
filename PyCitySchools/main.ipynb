{
 "cells": [
  {
   "cell_type": "code",
   "execution_count": null,
   "metadata": {},
   "outputs": [],
   "source": []
  }
 ],
 "metadata": {
  "kernelspec": {
   "display_name": "Python 3.6.10 ('pythondata')",
   "language": "python",
   "name": "python3"
  },
  "language_info": {
   "name": "python",
   "version": "3.6.10"
  },
  "orig_nbformat": 4,
  "vscode": {
   "interpreter": {
    "hash": "17d08c5df2b6a57de7cc76c06ef4dc0a1ffb12b118c5b567523be3c477604214"
   }
  }
 },
 "nbformat": 4,
 "nbformat_minor": 2
}
